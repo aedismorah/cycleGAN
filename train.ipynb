{
 "cells": [
  {
   "cell_type": "code",
   "execution_count": null,
   "metadata": {},
   "outputs": [],
   "source": [
    "# Set random seed for reproducibility\n",
    "from cycleGAN.utils import set_seed, dual_plot, get_GAN_dataloader\n",
    "\n",
    "set_seed(42)\n",
    "\n",
    "workers = 8\n",
    "batch_size = 3\n",
    "image_size = 256\n",
    "\n",
    "# Create dataloaders\n",
    "# ther are three modes that are currently abailable: \"blonde to brunette\", \"orange to apple\" and \"white to black\"\n",
    "\n",
    "mode = \"blonde to brunette\"\n",
    "X_dataloader, Y_dataloader = get_GAN_dataloader(mode, batch_size, image_size, workers)"
   ]
  },
  {
   "cell_type": "code",
   "execution_count": null,
   "metadata": {
    "code_folding": []
   },
   "outputs": [],
   "source": [
    "# Plot some training images\n",
    "\n",
    "sample = next(iter(X_dataloader)), next(iter(Y_dataloader))\n",
    "dual_plot(sample[0], sample[1])"
   ]
  },
  {
   "cell_type": "markdown",
   "metadata": {},
   "source": [
    "Truth be told cycleGAN can generate very good images as well as not so good ones. Thus I made a compilation of some of the better outputs to showcase what it is capable of when it really \"tries\""
   ]
  },
  {
   "cell_type": "code",
   "execution_count": null,
   "metadata": {},
   "outputs": [],
   "source": [
    "from cycleGAN.utils import plot_best\n",
    "plot_best(mode)"
   ]
  },
  {
   "cell_type": "code",
   "execution_count": null,
   "metadata": {
    "code_folding": []
   },
   "outputs": [],
   "source": [
    "# Create the Generator, Discriminator with initialized parameters and their optimizers\n",
    "import torch.nn as nn\n",
    "from cycleGAN.train import cycleGAN, GAN\n",
    "\n",
    "criterion = nn.MSELoss()\n",
    "cycleGAN = cycleGAN(X_dataloader, Y_dataloader, mode, lr=0.0002)\n",
    "\n",
    "# load weights if those exist\n",
    "cycleGAN.load_weights(mode)\n",
    "\n",
    "# Training Loop\n",
    "cycleGAN.train(criterion, batch_size, num_epochs=100, decaying_lr=False)\n",
    "cycleGAN.train(criterion, batch_size, num_epochs=100, decaying_lr=True)"
   ]
  },
  {
   "cell_type": "code",
   "execution_count": null,
   "metadata": {},
   "outputs": [],
   "source": [
    "#plot an example of a transform from the rest of the images in eval mode\n",
    "from cycleGAN.utils import dual_plot\n",
    "\n",
    "real_batch = next(iter(X_dataloader))\n",
    "output = cycleGAN.transform(real_batch[0])\n",
    "dual_plot(real_batch, output)"
   ]
  }
 ],
 "metadata": {
  "kernelspec": {
   "display_name": "Python 3",
   "language": "python",
   "name": "python3"
  },
  "language_info": {
   "codemirror_mode": {
    "name": "ipython",
    "version": 3
   },
   "file_extension": ".py",
   "mimetype": "text/x-python",
   "name": "python",
   "nbconvert_exporter": "python",
   "pygments_lexer": "ipython3",
   "version": "3.8.5"
  }
 },
 "nbformat": 4,
 "nbformat_minor": 4
}
